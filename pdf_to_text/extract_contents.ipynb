{
 "cells": [
  {
   "cell_type": "code",
   "execution_count": null,
   "id": "eaaa5aed",
   "metadata": {},
   "outputs": [],
   "source": [
    "%pip install pdf2image pytesseract pillow"
   ]
  },
  {
   "cell_type": "code",
   "execution_count": null,
   "id": "3ae03ed0",
   "metadata": {},
   "outputs": [],
   "source": [
    "from pdf2image import convert_from_path\n",
    "import pytesseract\n",
    "import re\n",
    "\n",
    "def extract_toc_markdown(pdf_path, first_page=1, last_page=5):\n",
    "    images = convert_from_path(pdf_path, first_page=first_page, last_page=last_page)\n",
    "    text = \"\"\n",
    "    for img in images:\n",
    "        text += pytesseract.image_to_string(img) + \"\\n\"\n",
    "\n",
    "    # 提取目录条目\n",
    "    pattern = re.compile(r\"(\\d{1,3})\\s+([A-Z][^\\n]+?)\\s*\\.*\\s*(\\d{1,3})?\")\n",
    "    entries = []\n",
    "    for match in pattern.finditer(text):\n",
    "        unit, title, page = match.groups()\n",
    "        entries.append((unit, title.strip(), page))\n",
    "\n",
    "    # 生成 Markdown\n",
    "    md = \"# 📘 Table of Contents\\n\"\n",
    "    for unit, title, page in entries:\n",
    "        md += f\"- **Unit {unit}**: {title}\"\n",
    "        if page:\n",
    "            md += f\" (p.{page})\"\n",
    "        md += \"\\n\"\n",
    "\n",
    "    return md\n"
   ]
  },
  {
   "cell_type": "code",
   "execution_count": null,
   "id": "137fe41e",
   "metadata": {},
   "outputs": [],
   "source": [
    "import os\n",
    "\n",
    "pdfs=[\"/Users/caesar/Documents/books-collections/English-Vocabulary_Grammar-books-202403/Michael McCarthy_ Felicity O’Dell - English Vocabulary in Use Elementary Book with Answers and Enhanced eBook_ Vocabulary Reference and Practice (2017, Cambridge University press) - libgen.li.pdf\"\n",
    ",\"/Users/caesar/Documents/books-collections/English-Vocabulary_Grammar-books-202403/Advanced Grammar in Use Book with Answers [4th Edition] (2023, Cambridge University Press) - Martin Hewings - libgen.li.pdf\"\n",
    ",\"/Users/caesar/Documents/books-collections/English-Vocabulary_Grammar-books-202403/English Grammar in Use. Book with Answers and Interactive eBook_ A Self-study Reference and Practice Book for Intermediate Learn (2019, Cambridge University Press) - Murphy, Raymond - libgen.li.pdf\"\n",
    ",\"/Users/caesar/Documents/books-collections/English-Vocabulary_Grammar-books-202403/English Phrasal Verbs in Use Intermediate Book with Answers_ Vocabulary Reference and Practice 2nd Edition (2017, Cambridge University Press) - Michael McCarthy , Felicity O'Dell - libgen.li.pdf\"\n",
    ",\"/Users/caesar/Documents/books-collections/English-Vocabulary_Grammar-books-202403/English Vocabulary in Use Pre-Intermediate and Intermediate Book with Answers_ Vocabulary Reference and Practice (2017, Cambridge University Press) - Stuart Redman - libgen.li.pdf\"\n",
    ",\"/Users/caesar/Documents/books-collections/English-Vocabulary_Grammar-books-202403/English phrasal verbs in use_ advanced_ 60 units of vocabulary reference and practice_ self-study and classroom use (2017, Cambridge University Press) - [In use_ In use] McCarthy, Michael_ O'Dell, Felicity - libgen.li.pdf\"\n",
    ",\"/Users/caesar/Documents/books-collections/English-Vocabulary_Grammar-books-202403/English Vocabulary in Use Upper-Intermediate Book with Answers and Enhanced eBook_ Vocabulary Reference and Practice (2017, Cambridge University Press) - Michael McCarthy_ Felicity O’Dell - libgen.li.pdf\"\n",
    ",\"/Users/caesar/Documents/books-collections/English-Vocabulary_Grammar-books-202403/Michael McCarthy, Felicity O’Dell - English Collocations in Use Intermediate Book with Answers_ How Words Work Together for Fluent and Natural English (2017, Cambridge University Press) - libgen.li.pdf\"\n",
    ",\"/Users/caesar/Documents/books-collections/English-Vocabulary_Grammar-books-202403/Author - Oxford Children's Picture Dictionary for learners of English_ A topic-based dictionary for young learners 1 (2016, Oxford University Press) - libgen.li.pdf\"\n",
    ",\"/Users/caesar/Documents/books-collections/English-Vocabulary_Grammar-books-202403/Felicity O’Dell_ Michael McCarthy - English Collocations in Use Advanced-Cambridge University Press (2017).pdf\"\n",
    ",\"/Users/caesar/Documents/books-collections/English-Vocabulary_Grammar-books-202403/Essential ESL Dictionary for Learners of English (2015, McGraw-Hill Education) - libgen.li.pdf\"\n",
    ",\"/Users/caesar/Documents/books-collections/English-Vocabulary_Grammar-books-202403/Merriam-Webster - Merriam-Webster's Vocabulary Builder (2010, Merriam-Webster, Inc.) - libgen.li.pdf\"\n",
    ",\"/Users/caesar/Documents/books-collections/English-Vocabulary_Grammar-books-202403/Michael McCarthy, Felicity O’Dell - English Vocabulary in Use_ Advanced Book with Answers_ Vocabulary Reference and Practice (2017, Cambridge University Press) - libgen.li.pdf\"\n",
    ",\"/Users/caesar/Documents/books-collections/English-Vocabulary_Grammar-books-202403/Merriam-Webster - Merriam-Webster's Vocabulary Builder (2010, Merriam-Webster, Inc.) - libgen.li.epub\"]\n",
    "\n",
    "for pdf in pdfs:\n",
    "    file_name_no_ext = os.path.splitext(os.path.basename(pdf))[0]\n",
    "    print(f'file_name: {file_name_no_ext}')\n",
    "    md = extract_toc_markdown(pdf)\n",
    "    print(md)"
   ]
  }
 ],
 "metadata": {
  "kernelspec": {
   "display_name": ".venv",
   "language": "python",
   "name": "python3"
  },
  "language_info": {
   "codemirror_mode": {
    "name": "ipython",
    "version": 3
   },
   "file_extension": ".py",
   "mimetype": "text/x-python",
   "name": "python",
   "nbconvert_exporter": "python",
   "pygments_lexer": "ipython3",
   "version": "3.9.9"
  }
 },
 "nbformat": 4,
 "nbformat_minor": 5
}

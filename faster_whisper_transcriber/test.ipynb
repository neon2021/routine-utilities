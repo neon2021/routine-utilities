{
 "cells": [
  {
   "cell_type": "code",
   "execution_count": 12,
   "id": "fdd2eeb7",
   "metadata": {},
   "outputs": [
    {
     "name": "stdout",
     "output_type": "stream",
     "text": [
      "1\n",
      "{'int8', 'int8_bfloat16', 'int8_float16', 'bfloat16', 'float32', 'float16', 'int8_float32'}\n",
      "CTranslate2 version: 4.6.0\n"
     ]
    }
   ],
   "source": [
    "import ctranslate2\n",
    "\n",
    "print(ctranslate2.get_cuda_device_count())  # 如果输出 >0，说明 GPU 可用\n",
    "print(ctranslate2.get_supported_compute_types(\"cuda\"))  # 支持的精度\n",
    "\n",
    "print(\"CTranslate2 version:\", ctranslate2.__version__)\n",
    "# print(\"Compiled with CUDA:\", ctranslate2.has_cuda())\n",
    "# print(\"Compiled with MKL:\", ctranslate2.has_mkl())\n",
    "# print(\"Compiled with OpenMP:\", ctranslate2.has_openmp())\n"
   ]
  },
  {
   "cell_type": "code",
   "execution_count": null,
   "id": "066d3f87",
   "metadata": {},
   "outputs": [
    {
     "name": "stderr",
     "output_type": "stream",
     "text": [
      "/home/caesar/Documents/code-projects/routine-utilities/.venv/lib/python3.10/site-packages/tqdm/auto.py:21: TqdmWarning: IProgress not found. Please update jupyter and ipywidgets. See https://ipywidgets.readthedocs.io/en/stable/user_install.html\n",
      "  from .autonotebook import tqdm as notebook_tqdm\n"
     ]
    },
    {
     "ename": "",
     "evalue": "",
     "output_type": "error",
     "traceback": [
      "\u001b[1;31mThe Kernel crashed while executing code in the current cell or a previous cell. \n",
      "\u001b[1;31mPlease review the code in the cell(s) to identify a possible cause of the failure. \n",
      "\u001b[1;31mClick <a href='https://aka.ms/vscodeJupyterKernelCrash'>here</a> for more info. \n",
      "\u001b[1;31mView Jupyter <a href='command:jupyter.viewOutput'>log</a> for further details."
     ]
    }
   ],
   "source": [
    "from faster_whisper import WhisperModel\n",
    "import os\n",
    "\n",
    "model_path = os.path.expanduser(\"~/Downloads/huggingface_downloads/\") \\\n",
    "            + \"/Systran/faster-whisper-large-v3\"\n",
    "media_fp=\"/home/caesar/Videos/martin-english/compress_mov-italki-2023_11_17-Martin_English-Screen Recording 2023-11-17 at 21.34.11_hardwareHevcNvenc.mp4\"\n",
    "model = WhisperModel(model_path, device=\"cuda\", compute_type=\"float16\")\n",
    "segments, _ = model.transcribe(media_fp, beam_size=5)\n",
    "print(segments[0].text)"
   ]
  }
 ],
 "metadata": {
  "kernelspec": {
   "display_name": ".venv",
   "language": "python",
   "name": "python3"
  },
  "language_info": {
   "codemirror_mode": {
    "name": "ipython",
    "version": 3
   },
   "file_extension": ".py",
   "mimetype": "text/x-python",
   "name": "python",
   "nbconvert_exporter": "python",
   "pygments_lexer": "ipython3",
   "version": "3.10.12"
  }
 },
 "nbformat": 4,
 "nbformat_minor": 5
}
